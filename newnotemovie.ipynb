{
 "cells": [
  {
   "cell_type": "code",
   "execution_count": 597,
   "metadata": {},
   "outputs": [],
   "source": [
    "import numpy as np\n",
    "import pandas as pd\n",
    "import ast\n",
    "\n",
    "def convert(name):\n",
    "    try:\n",
    "        float(name)\n",
    "        return ''\n",
    "    except ValueError:\n",
    "        name=name.replace(\" \",'')\n",
    "        name=name.replace(\",\",' ')\n",
    "        return name\n",
    "    \n",
    "def genre_convert(text):\n",
    "    L = []\n",
    "    for i in ast.literal_eval(text):\n",
    "        L.append(i['name']) \n",
    "    return L\n",
    "\n",
    "\n"
   ]
  },
  {
   "cell_type": "code",
   "execution_count": 598,
   "metadata": {},
   "outputs": [],
   "source": [
    "tmdb=pd.read_csv('./tmdb_all_data.csv',lineterminator='\\n',nrows=20000)\n",
    "tmdb=tmdb.drop_duplicates(subset=['title','original_title'])\n",
    "tmdb=tmdb.dropna(subset=['title','original_title','release_date','poster_path','overview'])"
   ]
  },
  {
   "cell_type": "code",
   "execution_count": 599,
   "metadata": {},
   "outputs": [
    {
     "data": {
      "text/plain": [
       "(17826, 26)"
      ]
     },
     "execution_count": 599,
     "metadata": {},
     "output_type": "execute_result"
    }
   ],
   "source": [
    "tmdb.shape"
   ]
  },
  {
   "cell_type": "code",
   "execution_count": 600,
   "metadata": {},
   "outputs": [],
   "source": [
    "def prodc_convert(text):\n",
    "    L = []\n",
    "    for i in ast.literal_eval(text):\n",
    "        L.append(i['name']) \n",
    "    return L"
   ]
  },
  {
   "cell_type": "code",
   "execution_count": 601,
   "metadata": {},
   "outputs": [],
   "source": [
    "tmdb['movie_id']=tmdb['id']\n",
    "\n",
    "data=tmdb.drop(columns=['backdrop_path','Unnamed: 0','id','imdb_id','original_language','revenue','status','video','homepage','budget'])\n",
    "data['genres']=data['genres'].apply(genre_convert)\n"
   ]
  },
  {
   "cell_type": "code",
   "execution_count": 602,
   "metadata": {},
   "outputs": [],
   "source": [
    "data['production_companies']=data['production_companies'].apply(genre_convert)\n",
    "data['production_countries']=data['production_countries'].apply(genre_convert)\n",
    "data['spoken_languages']=data['spoken_languages'].apply(genre_convert)\n",
    "filtered_data=data"
   ]
  },
  {
   "cell_type": "code",
   "execution_count": 603,
   "metadata": {},
   "outputs": [
    {
     "data": {
      "text/plain": [
       "adult                        0\n",
       "belongs_to_collection    14910\n",
       "genres                       0\n",
       "original_title               0\n",
       "overview                     0\n",
       "popularity                   0\n",
       "poster_path                  0\n",
       "production_companies         0\n",
       "production_countries         0\n",
       "release_date                 0\n",
       "runtime                      5\n",
       "spoken_languages             0\n",
       "tagline                   8232\n",
       "title                        0\n",
       "vote_average                 0\n",
       "vote_count                   0\n",
       "movie_id                     0\n",
       "dtype: int64"
      ]
     },
     "execution_count": 603,
     "metadata": {},
     "output_type": "execute_result"
    }
   ],
   "source": [
    "data.isna().sum()"
   ]
  },
  {
   "cell_type": "code",
   "execution_count": 604,
   "metadata": {},
   "outputs": [],
   "source": [
    "\n",
    "filtered_data=filtered_data.dropna(subset=['title','original_title'])"
   ]
  },
  {
   "cell_type": "code",
   "execution_count": 605,
   "metadata": {},
   "outputs": [
    {
     "data": {
      "text/plain": [
       "(17826, 17)"
      ]
     },
     "execution_count": 605,
     "metadata": {},
     "output_type": "execute_result"
    }
   ],
   "source": [
    "filtered_data.shape"
   ]
  },
  {
   "cell_type": "code",
   "execution_count": 619,
   "metadata": {},
   "outputs": [],
   "source": [
    "\n",
    "tmdbdata=pd.read_csv('./tmdb_5000_movies.csv')\n",
    "tmdbcredit=pd.read_csv('./tmdb_5000_credits.csv')\n",
    "newdt=tmdbdata.merge(tmdbcredit,on='title',how='right').drop(columns=['budget', 'homepage', 'id',\n",
    "       'original_language', 'revenue', 'status'])\n",
    "\n",
    "#cols2use=tt.columns.difference(filtered_data.columns)\n",
    "f_newdt=newdt[['cast','crew','keywords','original_title']]\n",
    "\n",
    "f_newdt=f_newdt.drop_duplicates(subset=['original_title'])\n",
    "#print(cols2use)\n",
    "#filt_data=filtered_data.merge(f_newdt,on='original_title',how='left')\n",
    "\n",
    "filt_data=filtered_data.merge(f_newdt,on='original_title',how='left')\n",
    "\n",
    "\n",
    "\n",
    "filt_data['title']=filt_data['title']+':'+filt_data['tagline']\n",
    "\n",
    "#cst.to_csv('cset.csv')\n"
   ]
  },
  {
   "cell_type": "code",
   "execution_count": 620,
   "metadata": {},
   "outputs": [],
   "source": [
    "def cast_conv(text):\n",
    "    if(pd.isna(text)):\n",
    "        return []\n",
    "    L = []\n",
    "    counter = 0\n",
    "    for i in ast.literal_eval(text):\n",
    "        if counter < 3:\n",
    "            L.append(i['name'])\n",
    "        counter+=1\n",
    "    return L\n",
    "\n",
    "\n",
    "def cast_convlist(text):\n",
    "    if(text!=[]):\n",
    "        return []\n",
    "    L = []\n",
    "    counter = 0\n",
    "    for i in ast.literal_eval(text):\n",
    "        if counter < 3:\n",
    "            L.append(i['name'])\n",
    "        counter+=1\n",
    "    return L"
   ]
  },
  {
   "cell_type": "code",
   "execution_count": 621,
   "metadata": {},
   "outputs": [],
   "source": [
    "filt_data['cast']=filt_data['cast'].apply(cast_conv)\n"
   ]
  },
  {
   "cell_type": "code",
   "execution_count": 622,
   "metadata": {},
   "outputs": [],
   "source": [
    "def fetch_director(text):\n",
    "\n",
    "    if(pd.isna(text)):\n",
    "        return []\n",
    "    L = []\n",
    "    for i in ast.literal_eval(text):\n",
    "        if i['job'] == 'Director':\n",
    "            L.append(i['name'])\n",
    "    return L "
   ]
  },
  {
   "cell_type": "code",
   "execution_count": 623,
   "metadata": {},
   "outputs": [],
   "source": [
    "filt_data['director'] = filt_data['crew'].apply(fetch_director)"
   ]
  },
  {
   "cell_type": "code",
   "execution_count": 624,
   "metadata": {},
   "outputs": [],
   "source": [
    "def collapse(L):\n",
    "    if(L!=[]):\n",
    "        return []\n",
    "    L1 = []\n",
    "    for i in L:\n",
    "        L1.append(i.replace(\" \",\"\"))\n",
    "    return L1"
   ]
  },
  {
   "cell_type": "code",
   "execution_count": 625,
   "metadata": {},
   "outputs": [],
   "source": [
    "filt_data['keywords'] = filt_data['keywords'].apply(cast_convlist)\n",
    "filt_data['crew'] = filt_data['crew'].apply(cast_convlist)\n",
    "\n",
    "\n",
    "filt_data['cast'] = filt_data['cast'].apply(collapse)\n",
    "filt_data['crew'] = filt_data['crew'].apply(collapse)\n",
    "filt_data['director'] = filt_data['director'].apply(collapse)\n",
    "filt_data['genres'] = filt_data['genres'].apply(collapse)\n",
    "filt_data['keywords'] = filt_data['keywords'].apply(collapse)\n",
    "\n",
    "\n",
    "\n",
    "#filt_data['overview'] + filt_data['genres'] + filt_data['keywords'] + filt_data['cast'] + filt_data['crew']+filt_data['production_companies'] + filt_data['production_companies'] + filt_data['original_title'] + filt_data['spoken_languages'] + filt_data['tagline']+filt_data['director']\n",
    "\n"
   ]
  },
  {
   "cell_type": "code",
   "execution_count": 626,
   "metadata": {},
   "outputs": [],
   "source": [
    "def removebal(name):\n",
    "    if(not pd.isnull(name)):\n",
    "        return name.split()\n",
    "    else:\n",
    "        return []\n",
    "    \n",
    "\n",
    "filt_data['overview_split']=filt_data['overview'].apply(removebal)"
   ]
  },
  {
   "cell_type": "code",
   "execution_count": 627,
   "metadata": {},
   "outputs": [],
   "source": [
    "filt_data['taglineT']=filt_data['tagline'].apply(removebal)\n"
   ]
  },
  {
   "cell_type": "code",
   "execution_count": 628,
   "metadata": {},
   "outputs": [],
   "source": [
    "\n",
    "#filt_data['overview_split'] = filt_data['overview_split'].apply(collapse)\n",
    "filt_data['production_companies'] = filt_data['production_companies'].apply(collapse)\n",
    "filt_data['production_countries'] = filt_data['production_countries'].apply(collapse)\n",
    "filt_data['original_Tmod'] = filt_data['original_title'].apply(lambda x:x.split(' '))\n",
    "filt_data['overviewT'] = filt_data['overview'].apply(lambda x:x.split(' '))\n",
    "\n",
    "\n",
    "filt_data=filt_data.drop(columns=['popularity','vote_count'])"
   ]
  },
  {
   "cell_type": "code",
   "execution_count": 629,
   "metadata": {},
   "outputs": [
    {
     "data": {
      "text/html": [
       "<div>\n",
       "<style scoped>\n",
       "    .dataframe tbody tr th:only-of-type {\n",
       "        vertical-align: middle;\n",
       "    }\n",
       "\n",
       "    .dataframe tbody tr th {\n",
       "        vertical-align: top;\n",
       "    }\n",
       "\n",
       "    .dataframe thead th {\n",
       "        text-align: right;\n",
       "    }\n",
       "</style>\n",
       "<table border=\"1\" class=\"dataframe\">\n",
       "  <thead>\n",
       "    <tr style=\"text-align: right;\">\n",
       "      <th></th>\n",
       "      <th>adult</th>\n",
       "      <th>belongs_to_collection</th>\n",
       "      <th>genres</th>\n",
       "      <th>original_title</th>\n",
       "      <th>overview</th>\n",
       "      <th>poster_path</th>\n",
       "      <th>production_companies</th>\n",
       "      <th>production_countries</th>\n",
       "      <th>release_date</th>\n",
       "      <th>runtime</th>\n",
       "      <th>...</th>\n",
       "      <th>vote_average</th>\n",
       "      <th>movie_id</th>\n",
       "      <th>cast</th>\n",
       "      <th>crew</th>\n",
       "      <th>keywords</th>\n",
       "      <th>director</th>\n",
       "      <th>overview_split</th>\n",
       "      <th>taglineT</th>\n",
       "      <th>original_Tmod</th>\n",
       "      <th>overviewT</th>\n",
       "    </tr>\n",
       "  </thead>\n",
       "  <tbody>\n",
       "    <tr>\n",
       "      <th>0</th>\n",
       "      <td>False</td>\n",
       "      <td>NaN</td>\n",
       "      <td>[]</td>\n",
       "      <td>Ariel</td>\n",
       "      <td>Taisto Kasurinen is a Finnish coal miner whose...</td>\n",
       "      <td>/ojDg0PGvs6R9xYFodRct2kdI6wC.jpg</td>\n",
       "      <td>[]</td>\n",
       "      <td>[]</td>\n",
       "      <td>1988-10-21</td>\n",
       "      <td>73.0</td>\n",
       "      <td>...</td>\n",
       "      <td>6.8</td>\n",
       "      <td>2</td>\n",
       "      <td>[]</td>\n",
       "      <td>[]</td>\n",
       "      <td>[]</td>\n",
       "      <td>[]</td>\n",
       "      <td>[Taisto, Kasurinen, is, a, Finnish, coal, mine...</td>\n",
       "      <td>[]</td>\n",
       "      <td>[Ariel]</td>\n",
       "      <td>[Taisto, Kasurinen, is, a, Finnish, coal, mine...</td>\n",
       "    </tr>\n",
       "    <tr>\n",
       "      <th>1</th>\n",
       "      <td>False</td>\n",
       "      <td>NaN</td>\n",
       "      <td>[]</td>\n",
       "      <td>Varjoja paratiisissa</td>\n",
       "      <td>An episode in the life of Nikander, a garbage ...</td>\n",
       "      <td>/nj01hspawPof0mJmlgfjuLyJuRN.jpg</td>\n",
       "      <td>[]</td>\n",
       "      <td>[]</td>\n",
       "      <td>1986-10-17</td>\n",
       "      <td>74.0</td>\n",
       "      <td>...</td>\n",
       "      <td>7.2</td>\n",
       "      <td>3</td>\n",
       "      <td>[]</td>\n",
       "      <td>[]</td>\n",
       "      <td>[]</td>\n",
       "      <td>[]</td>\n",
       "      <td>[An, episode, in, the, life, of, Nikander,, a,...</td>\n",
       "      <td>[]</td>\n",
       "      <td>[Varjoja, paratiisissa]</td>\n",
       "      <td>[An, episode, in, the, life, of, Nikander,, a,...</td>\n",
       "    </tr>\n",
       "  </tbody>\n",
       "</table>\n",
       "<p>2 rows × 23 columns</p>\n",
       "</div>"
      ],
      "text/plain": [
       "   adult belongs_to_collection genres        original_title  \\\n",
       "0  False                   NaN     []                 Ariel   \n",
       "1  False                   NaN     []  Varjoja paratiisissa   \n",
       "\n",
       "                                            overview  \\\n",
       "0  Taisto Kasurinen is a Finnish coal miner whose...   \n",
       "1  An episode in the life of Nikander, a garbage ...   \n",
       "\n",
       "                        poster_path production_companies production_countries  \\\n",
       "0  /ojDg0PGvs6R9xYFodRct2kdI6wC.jpg                   []                   []   \n",
       "1  /nj01hspawPof0mJmlgfjuLyJuRN.jpg                   []                   []   \n",
       "\n",
       "  release_date  runtime  ... vote_average movie_id cast  crew  keywords  \\\n",
       "0   1988-10-21     73.0  ...          6.8        2   []    []        []   \n",
       "1   1986-10-17     74.0  ...          7.2        3   []    []        []   \n",
       "\n",
       "  director                                     overview_split taglineT  \\\n",
       "0       []  [Taisto, Kasurinen, is, a, Finnish, coal, mine...       []   \n",
       "1       []  [An, episode, in, the, life, of, Nikander,, a,...       []   \n",
       "\n",
       "             original_Tmod                                          overviewT  \n",
       "0                  [Ariel]  [Taisto, Kasurinen, is, a, Finnish, coal, mine...  \n",
       "1  [Varjoja, paratiisissa]  [An, episode, in, the, life, of, Nikander,, a,...  \n",
       "\n",
       "[2 rows x 23 columns]"
      ]
     },
     "execution_count": 629,
     "metadata": {},
     "output_type": "execute_result"
    }
   ],
   "source": [
    "filt_data.head(2)"
   ]
  },
  {
   "cell_type": "code",
   "execution_count": 630,
   "metadata": {},
   "outputs": [],
   "source": [
    "filt_data['tags']=filt_data['genres'] + filt_data['keywords'] + filt_data['cast'] + filt_data['crew']+filt_data['production_companies'] + filt_data['production_countries']+filt_data['overviewT'] +  filt_data['spoken_languages'] + filt_data['taglineT']+filt_data['director']\n",
    "#production_companies"
   ]
  },
  {
   "cell_type": "code",
   "execution_count": 631,
   "metadata": {},
   "outputs": [
    {
     "data": {
      "text/html": [
       "<div>\n",
       "<style scoped>\n",
       "    .dataframe tbody tr th:only-of-type {\n",
       "        vertical-align: middle;\n",
       "    }\n",
       "\n",
       "    .dataframe tbody tr th {\n",
       "        vertical-align: top;\n",
       "    }\n",
       "\n",
       "    .dataframe thead th {\n",
       "        text-align: right;\n",
       "    }\n",
       "</style>\n",
       "<table border=\"1\" class=\"dataframe\">\n",
       "  <thead>\n",
       "    <tr style=\"text-align: right;\">\n",
       "      <th></th>\n",
       "      <th>adult</th>\n",
       "      <th>belongs_to_collection</th>\n",
       "      <th>genres</th>\n",
       "      <th>original_title</th>\n",
       "      <th>overview</th>\n",
       "      <th>poster_path</th>\n",
       "      <th>production_companies</th>\n",
       "      <th>production_countries</th>\n",
       "      <th>release_date</th>\n",
       "      <th>runtime</th>\n",
       "      <th>...</th>\n",
       "      <th>movie_id</th>\n",
       "      <th>cast</th>\n",
       "      <th>crew</th>\n",
       "      <th>keywords</th>\n",
       "      <th>director</th>\n",
       "      <th>overview_split</th>\n",
       "      <th>taglineT</th>\n",
       "      <th>original_Tmod</th>\n",
       "      <th>overviewT</th>\n",
       "      <th>tags</th>\n",
       "    </tr>\n",
       "  </thead>\n",
       "  <tbody>\n",
       "    <tr>\n",
       "      <th>0</th>\n",
       "      <td>False</td>\n",
       "      <td>NaN</td>\n",
       "      <td>[]</td>\n",
       "      <td>Ariel</td>\n",
       "      <td>Taisto Kasurinen is a Finnish coal miner whose...</td>\n",
       "      <td>/ojDg0PGvs6R9xYFodRct2kdI6wC.jpg</td>\n",
       "      <td>[]</td>\n",
       "      <td>[]</td>\n",
       "      <td>1988-10-21</td>\n",
       "      <td>73.0</td>\n",
       "      <td>...</td>\n",
       "      <td>2</td>\n",
       "      <td>[]</td>\n",
       "      <td>[]</td>\n",
       "      <td>[]</td>\n",
       "      <td>[]</td>\n",
       "      <td>[Taisto, Kasurinen, is, a, Finnish, coal, mine...</td>\n",
       "      <td>[]</td>\n",
       "      <td>[Ariel]</td>\n",
       "      <td>[Taisto, Kasurinen, is, a, Finnish, coal, mine...</td>\n",
       "      <td>[Taisto, Kasurinen, is, a, Finnish, coal, mine...</td>\n",
       "    </tr>\n",
       "    <tr>\n",
       "      <th>1</th>\n",
       "      <td>False</td>\n",
       "      <td>NaN</td>\n",
       "      <td>[]</td>\n",
       "      <td>Varjoja paratiisissa</td>\n",
       "      <td>An episode in the life of Nikander, a garbage ...</td>\n",
       "      <td>/nj01hspawPof0mJmlgfjuLyJuRN.jpg</td>\n",
       "      <td>[]</td>\n",
       "      <td>[]</td>\n",
       "      <td>1986-10-17</td>\n",
       "      <td>74.0</td>\n",
       "      <td>...</td>\n",
       "      <td>3</td>\n",
       "      <td>[]</td>\n",
       "      <td>[]</td>\n",
       "      <td>[]</td>\n",
       "      <td>[]</td>\n",
       "      <td>[An, episode, in, the, life, of, Nikander,, a,...</td>\n",
       "      <td>[]</td>\n",
       "      <td>[Varjoja, paratiisissa]</td>\n",
       "      <td>[An, episode, in, the, life, of, Nikander,, a,...</td>\n",
       "      <td>[An, episode, in, the, life, of, Nikander,, a,...</td>\n",
       "    </tr>\n",
       "  </tbody>\n",
       "</table>\n",
       "<p>2 rows × 24 columns</p>\n",
       "</div>"
      ],
      "text/plain": [
       "   adult belongs_to_collection genres        original_title  \\\n",
       "0  False                   NaN     []                 Ariel   \n",
       "1  False                   NaN     []  Varjoja paratiisissa   \n",
       "\n",
       "                                            overview  \\\n",
       "0  Taisto Kasurinen is a Finnish coal miner whose...   \n",
       "1  An episode in the life of Nikander, a garbage ...   \n",
       "\n",
       "                        poster_path production_companies production_countries  \\\n",
       "0  /ojDg0PGvs6R9xYFodRct2kdI6wC.jpg                   []                   []   \n",
       "1  /nj01hspawPof0mJmlgfjuLyJuRN.jpg                   []                   []   \n",
       "\n",
       "  release_date  runtime  ... movie_id cast crew  keywords  director  \\\n",
       "0   1988-10-21     73.0  ...        2   []   []        []        []   \n",
       "1   1986-10-17     74.0  ...        3   []   []        []        []   \n",
       "\n",
       "                                      overview_split taglineT  \\\n",
       "0  [Taisto, Kasurinen, is, a, Finnish, coal, mine...       []   \n",
       "1  [An, episode, in, the, life, of, Nikander,, a,...       []   \n",
       "\n",
       "             original_Tmod                                          overviewT  \\\n",
       "0                  [Ariel]  [Taisto, Kasurinen, is, a, Finnish, coal, mine...   \n",
       "1  [Varjoja, paratiisissa]  [An, episode, in, the, life, of, Nikander,, a,...   \n",
       "\n",
       "                                                tags  \n",
       "0  [Taisto, Kasurinen, is, a, Finnish, coal, mine...  \n",
       "1  [An, episode, in, the, life, of, Nikander,, a,...  \n",
       "\n",
       "[2 rows x 24 columns]"
      ]
     },
     "execution_count": 631,
     "metadata": {},
     "output_type": "execute_result"
    }
   ],
   "source": [
    "filt_data.head(2)"
   ]
  },
  {
   "cell_type": "code",
   "execution_count": null,
   "metadata": {},
   "outputs": [],
   "source": [
    "filt_data=filt_data.drop(columns=['genres','overviewT','production_companies','production_countries','title','movie_id','cast','crew','keywords','director','overview_split','original_Tmod','taglineT'])\n",
    "\n",
    "def conv(name):\n",
    "    v=''\n",
    "    for i in name:\n",
    "        v=v+' '+i\n",
    "    return v\n",
    "\n",
    "filt_data['tags']=filt_data['tags'].apply(conv)\n"
   ]
  },
  {
   "cell_type": "code",
   "execution_count": 633,
   "metadata": {},
   "outputs": [
    {
     "data": {
      "text/plain": [
       "(17826, 11)"
      ]
     },
     "execution_count": 633,
     "metadata": {},
     "output_type": "execute_result"
    }
   ],
   "source": [
    "filt_data.shape"
   ]
  },
  {
   "cell_type": "code",
   "execution_count": 634,
   "metadata": {},
   "outputs": [
    {
     "data": {
      "text/plain": [
       "17440"
      ]
     },
     "execution_count": 634,
     "metadata": {},
     "output_type": "execute_result"
    }
   ],
   "source": [
    "import gc\n",
    "gc.collect()"
   ]
  },
  {
   "cell_type": "code",
   "execution_count": 635,
   "metadata": {},
   "outputs": [],
   "source": [
    "\n",
    "\n",
    "from sklearn.feature_extraction.text import CountVectorizer\n",
    "\n",
    "\n",
    "cv = CountVectorizer(max_features=5000,stop_words=\"english\")\n",
    "vector = cv.fit_transform(filt_data['tags']).toarray()\n",
    "\n",
    "vector.shape\n",
    "\n",
    "\n",
    "\n",
    "from sklearn.metrics.pairwise import cosine_similarity\n",
    "similarity=cosine_similarity(vector)"
   ]
  },
  {
   "cell_type": "code",
   "execution_count": 636,
   "metadata": {},
   "outputs": [],
   "source": [
    "import pickle\n",
    "\n",
    "pickle.dump(filt_data,open('movie_list.pkl','wb'))\n",
    "pickle.dump(similarity,open('similarity.pkl','wb'))"
   ]
  },
  {
   "cell_type": "code",
   "execution_count": 637,
   "metadata": {},
   "outputs": [
    {
     "data": {
      "text/html": [
       "<div>\n",
       "<style scoped>\n",
       "    .dataframe tbody tr th:only-of-type {\n",
       "        vertical-align: middle;\n",
       "    }\n",
       "\n",
       "    .dataframe tbody tr th {\n",
       "        vertical-align: top;\n",
       "    }\n",
       "\n",
       "    .dataframe thead th {\n",
       "        text-align: right;\n",
       "    }\n",
       "</style>\n",
       "<table border=\"1\" class=\"dataframe\">\n",
       "  <thead>\n",
       "    <tr style=\"text-align: right;\">\n",
       "      <th></th>\n",
       "      <th>adult</th>\n",
       "      <th>belongs_to_collection</th>\n",
       "      <th>original_title</th>\n",
       "      <th>overview</th>\n",
       "      <th>poster_path</th>\n",
       "      <th>release_date</th>\n",
       "      <th>runtime</th>\n",
       "      <th>spoken_languages</th>\n",
       "      <th>tagline</th>\n",
       "      <th>vote_average</th>\n",
       "      <th>tags</th>\n",
       "    </tr>\n",
       "  </thead>\n",
       "  <tbody>\n",
       "    <tr>\n",
       "      <th>0</th>\n",
       "      <td>False</td>\n",
       "      <td>NaN</td>\n",
       "      <td>Ariel</td>\n",
       "      <td>Taisto Kasurinen is a Finnish coal miner whose...</td>\n",
       "      <td>/ojDg0PGvs6R9xYFodRct2kdI6wC.jpg</td>\n",
       "      <td>1988-10-21</td>\n",
       "      <td>73.0</td>\n",
       "      <td>[Deutsch, suomi]</td>\n",
       "      <td>NaN</td>\n",
       "      <td>6.8</td>\n",
       "      <td>Taisto Kasurinen is a Finnish coal miner whos...</td>\n",
       "    </tr>\n",
       "    <tr>\n",
       "      <th>1</th>\n",
       "      <td>False</td>\n",
       "      <td>NaN</td>\n",
       "      <td>Varjoja paratiisissa</td>\n",
       "      <td>An episode in the life of Nikander, a garbage ...</td>\n",
       "      <td>/nj01hspawPof0mJmlgfjuLyJuRN.jpg</td>\n",
       "      <td>1986-10-17</td>\n",
       "      <td>74.0</td>\n",
       "      <td>[English, svenska, suomi]</td>\n",
       "      <td>NaN</td>\n",
       "      <td>7.2</td>\n",
       "      <td>An episode in the life of Nikander, a garbage...</td>\n",
       "    </tr>\n",
       "    <tr>\n",
       "      <th>2</th>\n",
       "      <td>False</td>\n",
       "      <td>NaN</td>\n",
       "      <td>Four Rooms</td>\n",
       "      <td>It's Ted the Bellhop's first night on the job....</td>\n",
       "      <td>/75aHn1NOYXh4M7L5shoeQ6NGykP.jpg</td>\n",
       "      <td>1995-12-09</td>\n",
       "      <td>98.0</td>\n",
       "      <td>[English]</td>\n",
       "      <td>Twelve outrageous guests. Four scandalous requ...</td>\n",
       "      <td>5.7</td>\n",
       "      <td>It's Ted the Bellhop's first night on the job...</td>\n",
       "    </tr>\n",
       "  </tbody>\n",
       "</table>\n",
       "</div>"
      ],
      "text/plain": [
       "   adult belongs_to_collection        original_title  \\\n",
       "0  False                   NaN                 Ariel   \n",
       "1  False                   NaN  Varjoja paratiisissa   \n",
       "2  False                   NaN            Four Rooms   \n",
       "\n",
       "                                            overview  \\\n",
       "0  Taisto Kasurinen is a Finnish coal miner whose...   \n",
       "1  An episode in the life of Nikander, a garbage ...   \n",
       "2  It's Ted the Bellhop's first night on the job....   \n",
       "\n",
       "                        poster_path release_date  runtime  \\\n",
       "0  /ojDg0PGvs6R9xYFodRct2kdI6wC.jpg   1988-10-21     73.0   \n",
       "1  /nj01hspawPof0mJmlgfjuLyJuRN.jpg   1986-10-17     74.0   \n",
       "2  /75aHn1NOYXh4M7L5shoeQ6NGykP.jpg   1995-12-09     98.0   \n",
       "\n",
       "            spoken_languages  \\\n",
       "0           [Deutsch, suomi]   \n",
       "1  [English, svenska, suomi]   \n",
       "2                  [English]   \n",
       "\n",
       "                                             tagline  vote_average  \\\n",
       "0                                                NaN           6.8   \n",
       "1                                                NaN           7.2   \n",
       "2  Twelve outrageous guests. Four scandalous requ...           5.7   \n",
       "\n",
       "                                                tags  \n",
       "0   Taisto Kasurinen is a Finnish coal miner whos...  \n",
       "1   An episode in the life of Nikander, a garbage...  \n",
       "2   It's Ted the Bellhop's first night on the job...  "
      ]
     },
     "execution_count": 637,
     "metadata": {},
     "output_type": "execute_result"
    }
   ],
   "source": [
    "filt_data.head(3)"
   ]
  }
 ],
 "metadata": {
  "kernelspec": {
   "display_name": "Python 3",
   "language": "python",
   "name": "python3"
  },
  "language_info": {
   "codemirror_mode": {
    "name": "ipython",
    "version": 3
   },
   "file_extension": ".py",
   "mimetype": "text/x-python",
   "name": "python",
   "nbconvert_exporter": "python",
   "pygments_lexer": "ipython3",
   "version": "3.10.10"
  },
  "orig_nbformat": 4,
  "vscode": {
   "interpreter": {
    "hash": "3b7e9cb8e453d6cda0fe8c8dd13f891a1f09162f0e7c66ffeae7751a7aecf00d"
   }
  }
 },
 "nbformat": 4,
 "nbformat_minor": 2
}
